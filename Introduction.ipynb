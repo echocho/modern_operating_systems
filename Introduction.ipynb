{
 "cells": [
  {
   "cell_type": "markdown",
   "metadata": {},
   "source": [
    "## 1.6 System Calls ##\n",
    "\n",
    "1. Any single-CPU computer can execute only one instruction at a time. If a process is running a user program in user mode and needs a program service, such as reading data from a file, it has to execute a trap instruction to transfer control to the operation system.\n",
    "\n",
    "\n",
    "### 1.61 System Calls for Process Management ###\n",
    "2. *Fork* is the only way to create a new process in POSIX. It creates an exact duplicate of the original process, incuding all the file descriptors, registers - everything. After the *fork*, the origianl process and the copy (the parent and child) go their separate ways.\n",
    "\n",
    "3. The *fork* call returns a value, which is zero in the child and equal to the child's *PID* in the parent.\n",
    "\n",
    "4. `main(argc, argv, envp)` \n",
    "\n",
    "5. Processes in UNIX have their memory divided up into three segments: the *text segment* (i.e., the program code), the *data segment* (i.e., the variables), and the *stack segment*.\n",
    "    \n",
    " \n",
    "### 1.62 System Calls for File Management ###\n",
    "6. Most programs read and wirte fiels sequentially, but some need to be able to access any part of a file at random. Associated with each file is a pointer that indicates the current position in the file. When reading(writing) sequentially, it normally points to the next byte to be read (write).\n",
    "\n",
    "7. *lseeek* call changes the value of the position pointer, so that subsequent calls to read or write can begin anywhere in the file.\n",
    "\n",
    "8. In UNIX, *stat* call shows the file mode (regular file, special file, directory, and so on), size, time of last modification, and other information. \n",
    "\n",
    "### 1.63 System Calls for Directory Management ###\n",
    "9. *mkdir*\n",
    "\n",
    "10. *rmdir*\n",
    "\n",
    "11. *link* call allows the same file to appear under two names, often in different directories. A common use case is sharing a file among team members (not like coping). Every file in UNIX has a unique number, its i-number, taht identifies it. This i-number is an index into a table of *i-nodes*, one per file, telling who owns the file, where its disk blocks are, etc. A directory is simply a file containing a set of (i-number, ASCII names) pairs. Command `link('usr/jim/memo', '/usr/ast/note')`, provided `'/usr/ast/note'` has i-number 90, creates a directory with a new file name `'usr/jim/memo'` which points to i-number 90.\n",
    "\n",
    "12. *mount* system call allows two file systems to be merged into one. A common use case: insert a USB disk with files to read.\n",
    "\n",
    "### Miscellaneous System Class ###\n",
    "13. *chdir* calss is used to change the current working directory. On some systems, this command is used as an alias for the shell command*cd*\n",
    "\n",
    "14. *chmod*\n",
    "\n",
    "15. *kill* is the way users and user processes send signals. If a process is prepared to catch a particular signal, then when it arrives, a signal handler is run. If the process is not prepared to handle a signal, then its arrival kills the process. "
   ]
  },
  {
   "cell_type": "markdown",
   "metadata": {},
   "source": []
  },
  {
   "cell_type": "code",
   "execution_count": null,
   "metadata": {},
   "outputs": [],
   "source": []
  }
 ],
 "metadata": {
  "kernelspec": {
   "display_name": "Python 3",
   "language": "python",
   "name": "python3"
  },
  "language_info": {
   "codemirror_mode": {
    "name": "ipython",
    "version": 3
   },
   "file_extension": ".py",
   "mimetype": "text/x-python",
   "name": "python",
   "nbconvert_exporter": "python",
   "pygments_lexer": "ipython3",
   "version": "3.7.2"
  }
 },
 "nbformat": 4,
 "nbformat_minor": 2
}
